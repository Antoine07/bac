{
 "cells": [
  {
   "cell_type": "markdown",
   "metadata": {},
   "source": [
    "# Raisonnement par récurrence\n",
    "\n",
    "1. Partez de ce qui suit pour faire cette première démonstration.\n",
    "\n",
    "Soit la propriété suivante que l'on suppose vraie on souhaite juste démontrer dans cet exercice l'hérédité\n",
    "\n",
    "$P(n) = 6^n + 1$ supposons donc que $P(n)$ est un multiple de 5. C'est à dire que l'on peut l'écrire comme suit :\n",
    "\n",
    "$P(n) = 5 \\times k$ avec k un entier.\n",
    "\n",
    "Maintenant essayez de faire l'initiailisation ... Concluez.\n",
    "\n",
    "\n",
    "2. Reprenez cette fois le problème mais avec les hypothèses suivantes :\n",
    "\n",
    "- $P(n) = 6^n + 1 = 5 \\times k + 2$ et démontrez par récurrence qu'effectivement si on divise $P(n)$ par 5 alors il restera toujours 2. Pensez cette fois à faire l'initialisation.\n",
    "\n"
   ]
  },
  {
   "cell_type": "code",
   "execution_count": null,
   "metadata": {},
   "outputs": [],
   "source": []
  }
 ],
 "metadata": {
  "kernelspec": {
   "display_name": "Python 3",
   "language": "python",
   "name": "python3"
  },
  "language_info": {
   "codemirror_mode": {
    "name": "ipython",
    "version": 3
   },
   "file_extension": ".py",
   "mimetype": "text/x-python",
   "name": "python",
   "nbconvert_exporter": "python",
   "pygments_lexer": "ipython3",
   "version": "3.7.4"
  }
 },
 "nbformat": 4,
 "nbformat_minor": 2
}
