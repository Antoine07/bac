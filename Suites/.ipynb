{
 "cells": [
  {
   "cell_type": "markdown",
   "metadata": {},
   "source": [
    "# Résultats de cours\n",
    "\n",
    "## Suite convergente\n",
    "\n",
    "Si la suite $(u_n)$ est croissante et majorée elle est convergente.\n",
    "\n",
    "Si la suite $(u_n)$ est décroissante et minorée elle est convergente.\n",
    "\n",
    "## Proposition\n",
    "\n",
    "si f est une fonction **continue** et la suite $(u_n)$ **converge** vers l alors l est solution de l'équation $f(l)=l$.\n",
    "\n"
   ]
  }
 ],
 "metadata": {
  "kernelspec": {
   "display_name": "Python 3",
   "language": "python",
   "name": "python3"
  },
  "language_info": {
   "codemirror_mode": {
    "name": "ipython",
    "version": 3
   },
   "file_extension": ".py",
   "mimetype": "text/x-python",
   "name": "python",
   "nbconvert_exporter": "python",
   "pygments_lexer": "ipython3",
   "version": "3.7.4"
  }
 },
 "nbformat": 4,
 "nbformat_minor": 2
}
