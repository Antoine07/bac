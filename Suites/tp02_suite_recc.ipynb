{
 "cells": [
  {
   "cell_type": "markdown",
   "metadata": {},
   "source": [
    "# TP 02\n",
    "\n",
    "Soit la suite récurrente suivante :\n",
    "$u_0 = 5$\n",
    "$u_{n+1}= \\frac{1}{2} \\times u_n + 1$\n",
    "\n",
    "1. Calculer les 5 premiers termes de la suite.\n",
    "\n",
    "2. Démontrez que la suite suivante $(v_n)$ est une suite géométrique.\n",
    "\n",
    "$v_n = u_n _ 2$\n",
    "\n",
    "3. En déduire une expression pour la suite $(v_n)$ et $(u_n)$ en fonction de n.\n",
    "\n",
    "4. Montrer que la suite est décroissante et minorée."
   ]
  }
 ],
 "metadata": {
  "kernelspec": {
   "display_name": "Python 3",
   "language": "python",
   "name": "python3"
  },
  "language_info": {
   "codemirror_mode": {
    "name": "ipython",
    "version": 3
   },
   "file_extension": ".py",
   "mimetype": "text/x-python",
   "name": "python",
   "nbconvert_exporter": "python",
   "pygments_lexer": "ipython3",
   "version": "3.7.4"
  }
 },
 "nbformat": 4,
 "nbformat_minor": 2
}
