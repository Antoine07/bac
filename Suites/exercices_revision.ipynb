{
 "cells": [
  {
   "cell_type": "markdown",
   "metadata": {},
   "source": [
    "# Liste d'exercices de révision\n",
    "\n",
    "## 01.S Exercice\n",
    "\n",
    "Soit la suite géométrique décroissante dont on connait deux termes tel que :\n",
    "\n",
    "$\\left\\{\n",
    "    \\begin{array}{ll}\n",
    "       u_0 \\times u_3 = 32 \\\\\n",
    "        u_0 + u_3 = 18\n",
    "    \\end{array}\n",
    "\\right.\n",
    "$\n",
    "\n",
    "*Cultures générales : suivez les remarques suivantes P est le produit des racine et S la somme des racines de l'équation :*\n",
    "\n",
    "$x^2 - Sx + P = 0$\n",
    "\n",
    "1. Démontrez la remarque ci-dessus.\n",
    "\n",
    "2. Calculez ces deux réels.\n",
    "\n",
    "3. Quelles est la raison de la suite ?\n",
    "\n",
    "4. On pose $Z_n = u_0 + u_1 + ... + u_n$ calculez $z_n$ en fonction de n et déterminer sa limite.\n",
    "\n",
    "## 02.rec Exercice\n",
    "\n",
    "Démontrez par récurrence ce qui suit :\n",
    "\n",
    "Soit la suite définie par récurrence suivante :\n",
    "\n",
    "$\\left\\{\n",
    "    \\begin{array}{ll}\n",
    "       u_0 = 1 \\\\\n",
    "        u_{n+1} = \\sqrt{2 + u_n}\n",
    "    \\end{array}\n",
    "\\right.\n",
    "$\n",
    "\n",
    "Démontrez qu'alors on a :\n",
    "\n",
    "$u_n \\leq 2$\n",
    "\n",
    "## 03.arith Exercice\n",
    "\n",
    "1. Seriez-vous redémontrer la formule suivante qui donne la somme de n termes d'une suite arithmétique ?\n",
    "\n",
    "$\\sum_{k=0}^{n} u_n =  (n+1) \\times \\frac{(u_n + u_0)}{2}$\n",
    "\n",
    "2. Calculez la somme des n entiers impairs :\n",
    "\n",
    "$1 + 3 + 5 + ... + n$\n"
   ]
  }
 ],
 "metadata": {
  "kernelspec": {
   "display_name": "Python 3",
   "language": "python",
   "name": "python3"
  },
  "language_info": {
   "codemirror_mode": {
    "name": "ipython",
    "version": 3
   },
   "file_extension": ".py",
   "mimetype": "text/x-python",
   "name": "python",
   "nbconvert_exporter": "python",
   "pygments_lexer": "ipython3",
   "version": "3.7.4"
  }
 },
 "nbformat": 4,
 "nbformat_minor": 2
}
